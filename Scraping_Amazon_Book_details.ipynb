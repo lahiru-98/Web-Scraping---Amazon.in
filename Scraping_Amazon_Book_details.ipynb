{
  "nbformat": 4,
  "nbformat_minor": 0,
  "metadata": {
    "colab": {
      "name": "Scraping_Amazon_Book_details.ipynb",
      "provenance": [],
      "collapsed_sections": [
        "l1Dah5CMSVoR",
        "BriOstD0hzBD",
        "2iOo9GJrqr2G"
      ]
    },
    "kernelspec": {
      "name": "python3",
      "display_name": "Python 3"
    },
    "language_info": {
      "name": "python"
    }
  },
  "cells": [
    {
      "cell_type": "markdown",
      "source": [
        "# 🔋 ▶ ----------     Project  Overview ----------  💚\n",
        "\n",
        "⭐ 💻 **Web scraping** is an automatic method to obtain large amounts of data from websites. Most of this data is unstructured data in an HTML format which is then converted into structured data in a spreadsheet or a database so that it can be used in various applications. Reference [GeekForGeeks](https://www.geeksforgeeks.org/what-is-web-scraping-and-how-to-use-it/) )\n",
        "\n",
        "⭐ 💻 **Amazon.in** is a popular e-commerce platform where the sellers can sell their products and also the consumers or the customers can purchase those products throgh online. Books are one of the popular selling item among the customers. Amazon allows their customers to buy large variety of Books belong to different categories like \n",
        "            \n",
        "  * ▶ Action & Adventure\n",
        "  * ▶ Arts, Film & Photography\n",
        "  * ▶ Business & Economics and so on. \n",
        "\n",
        "In this Project we aee going to scrape the details of the books belonging to each categories listed in the amazon website. The scraper will collcet the information about the **Book Name**, **Author** ,**price of the book** , **number of ratings**, **rating stars** , **number of pages** and the **language** of the book. \n",
        "\n",
        "⭐ 💻 **Tools and Technologies**\n",
        "* ▶ Python\n",
        "* ▶ requests\n",
        "* ▶ BeautifulSoup\n",
        "* ▶ pandas\n"
      ],
      "metadata": {
        "id": "Zye7GehMwSeU"
      }
    },
    {
      "cell_type": "markdown",
      "source": [
        "# 🔋 ▶ ---------- Project Outline  ---------- 💚\n",
        "\n",
        "* ⏳ We are going to scrape https://www.amazon.in/gp/bestsellers/books/\n",
        "* ⏳ We will get List of Book Categories, for each category, category name and the URL\n",
        "* ⏳ For each Book Category we will get the book names and the urls to the book details pages.\n",
        "* ⏳ For each Book we will grab the book name, author, price , ratings , stars, pages and the language\n",
        "* ⏳ For each Book category  we'll create a CSV file in the following format:\n",
        "\n",
        "![picture](https://drive.google.com/file/d/1DS8Joyz-bO0W9NhHkh0zaXNeL9vAauJB/view?usp=sharing)\n"
      ],
      "metadata": {
        "id": "fsWLn1HGRAow"
      }
    },
    {
      "cell_type": "markdown",
      "source": [
        "## 🥗 ---------- Use the requests library to download web pages ---------- 💚"
      ],
      "metadata": {
        "id": "l1Dah5CMSVoR"
      }
    },
    {
      "cell_type": "code",
      "source": [
        "import requests\n",
        "import time\n",
        "import os"
      ],
      "metadata": {
        "id": "7xsfk1yNSX_r"
      },
      "execution_count": 3,
      "outputs": []
    },
    {
      "cell_type": "code",
      "source": [
        "def get_page_content(url):\n",
        "  '''\n",
        "    -Returns the page content when the url of the page is passed  \n",
        "    :param url | String, The url of the page which needs to get the content\n",
        "    :return String of Page content/Error Message\n",
        "  '''\n",
        "  headers = {'User-Agent': 'Mozilla/5.0 (Windows NT 6.1) AppleWebKit/537.36 (KHTML, like Gecko) Chrome/41.0.2228.0 Safari/537.36'}\n",
        "  \n",
        "  number_of_attempts = 0\n",
        "\n",
        "  while True:\n",
        "    response = requests.get(url , headers = headers)\n",
        "    if response.status_code == 200 :\n",
        "      return response.text\n",
        "    else:\n",
        "      print(\"Server is Busy || Waiting 5 seconds....\")\n",
        "      time.sleep(5)\n",
        "    number_of_attempts = number_of_attempts+1;\n",
        "    if(number_of_attempts>3):\n",
        "      break"
      ],
      "metadata": {
        "id": "2QejX2-crXs1"
      },
      "execution_count": 4,
      "outputs": []
    },
    {
      "cell_type": "markdown",
      "source": [
        " 💻 **get_page_conten**t Function will accept the page url as a parameter and it will return the page content as a string, Additionally It is capable of handling a common error when using the request library,which is '*the server is not ready to handle the reques*t'. by waiting for few seconds and sending the resquest again.\n"
      ],
      "metadata": {
        "id": "UxTlMHMe90ae"
      }
    },
    {
      "cell_type": "code",
      "source": [
        "home_page_url = \"https://www.amazon.in/gp/bestsellers/books/\""
      ],
      "metadata": {
        "id": "12FfJmYGSXGT"
      },
      "execution_count": 5,
      "outputs": []
    },
    {
      "cell_type": "code",
      "source": [
        "home_page_content = get_page_content(home_page_url)\n",
        "home_page_content[:1000]"
      ],
      "metadata": {
        "id": "3cqJUVhfTKGq",
        "colab": {
          "base_uri": "https://localhost:8080/",
          "height": 140
        },
        "outputId": "b827111c-1a81-4c4b-8cfd-fed998c6b733"
      },
      "execution_count": 6,
      "outputs": [
        {
          "output_type": "execute_result",
          "data": {
            "text/plain": [
              "'<!doctype html><html lang=\"en-in\" class=\"a-no-js\" data-19ax5a9jf=\"dingo\"><!-- sp:feature:head-start -->\\n<head><script>var aPageStart = (new Date()).getTime();</script><meta charset=\"utf-8\"/>\\n<!-- sp:end-feature:head-start -->\\n\\n<script type=\\'text/javascript\\'>var ue_t0=ue_t0||+new Date();</script>\\n<!-- sp:feature:cs-optimization -->\\n<meta http-equiv=\\'x-dns-prefetch-control\\' content=\\'on\\'>\\n<link rel=\"dns-prefetch\" href=\"https://images-eu.ssl-images-amazon.com\">\\n<link rel=\"dns-prefetch\" href=\"https://m.media-amazon.com\">\\n<link rel=\"dns-prefetch\" href=\"https://completion.amazon.com\">\\n<!-- sp:end-feature:cs-optimization -->\\n<script type=\\'text/javascript\\'>\\nwindow.ue_ihb = (window.ue_ihb || window.ueinit || 0) + 1;\\nif (window.ue_ihb === 1) {\\n\\nvar ue_csm = window,\\n    ue_hob = +new Date();\\n(function(d){var e=d.ue=d.ue||{},f=Date.now||function(){return+new Date};e.d=function(b){return f()-(b?0:d.ue_t0)};e.stub=function(b,a){if(!b[a]){var c=[];b[a]=function(){c.push([c.slice.call(arguments),e.d(),'"
            ],
            "application/vnd.google.colaboratory.intrinsic+json": {
              "type": "string"
            }
          },
          "metadata": {},
          "execution_count": 6
        }
      ]
    },
    {
      "cell_type": "markdown",
      "source": [
        "## 🥗 ---------- Use Beautiful Soup to parse and extract information ----------------------- 💚"
      ],
      "metadata": {
        "id": "TV3k83ZtUASL"
      }
    },
    {
      "cell_type": "code",
      "source": [
        "from bs4 import BeautifulSoup\n",
        "import pandas as pd"
      ],
      "metadata": {
        "id": "xrIY_qwST1pZ"
      },
      "execution_count": 7,
      "outputs": []
    },
    {
      "cell_type": "code",
      "source": [
        "home_doc = BeautifulSoup(home_page_content , 'html.parser')"
      ],
      "metadata": {
        "id": "CK8SXxTOcstR"
      },
      "execution_count": 8,
      "outputs": []
    },
    {
      "cell_type": "markdown",
      "source": [
        "###  📗 Scraping ▶ Book Categories and their links"
      ],
      "metadata": {
        "id": "BriOstD0hzBD"
      }
    },
    {
      "cell_type": "code",
      "source": [
        "div_selection_class = '_p13n-zg-nav-tree-all_style_zg-browse-item__1rdKf _p13n-zg-nav-tree-all_style_zg-browse-height-large__1z5B8'\n",
        "div_tags = home_doc.find_all('div' , {'class':div_selection_class})"
      ],
      "metadata": {
        "id": "xD8VDUqxc-nv"
      },
      "execution_count": 9,
      "outputs": []
    },
    {
      "cell_type": "code",
      "source": [
        "def get_categories_df(base_url=\"\"):\n",
        "  '''\n",
        "    -Obtain the Book Category details (category name , url)  \n",
        "    :param base_url | String, The base url which need to append for the book category url , default : \"\"\n",
        "    :return Pandas DataFrame\n",
        "  '''\n",
        "  book_categories = []\n",
        "  category_links = []\n",
        "  div_selection_class = '_p13n-zg-nav-tree-all_style_zg-browse-item__1rdKf _p13n-zg-nav-tree-all_style_zg-browse-height-large__1z5B8'\n",
        "  div_tags = home_doc.find_all('div' , {'class':div_selection_class}) \n",
        "  for div_tag in div_tags:\n",
        "    category = div_tag.find('a')\n",
        "    if(category):\n",
        "      book_categories.append(category.text)\n",
        "      category_links.append(base_url +category['href'])\n",
        "\n",
        "  category_details = {\"category\" : book_categories,\"url\": category_links}\n",
        "  return pd.DataFrame(category_details)"
      ],
      "metadata": {
        "id": "LvMQMThWlwbk"
      },
      "execution_count": 10,
      "outputs": []
    },
    {
      "cell_type": "code",
      "source": [
        "df = get_categories_df(\"https://www.amazon.in\")"
      ],
      "metadata": {
        "id": "pPrQ4Uy1mgs4"
      },
      "execution_count": 11,
      "outputs": []
    },
    {
      "cell_type": "code",
      "source": [
        "df.head()"
      ],
      "metadata": {
        "id": "hXe7q_ERrEsx",
        "colab": {
          "base_uri": "https://localhost:8080/",
          "height": 206
        },
        "outputId": "c0741a2f-d804-438c-a4e3-f0d26cee11a1"
      },
      "execution_count": 12,
      "outputs": [
        {
          "output_type": "execute_result",
          "data": {
            "text/plain": [
              "                               category  \\\n",
              "0                    Action & Adventure   \n",
              "1              Arts, Film & Photography   \n",
              "2  Biographies, Diaries & True Accounts   \n",
              "3                  Business & Economics   \n",
              "4              Children's & Young Adult   \n",
              "\n",
              "                                                 url  \n",
              "0  https://www.amazon.in/gp/bestsellers/books/131...  \n",
              "1  https://www.amazon.in/gp/bestsellers/books/131...  \n",
              "2  https://www.amazon.in/gp/bestsellers/books/131...  \n",
              "3  https://www.amazon.in/gp/bestsellers/books/131...  \n",
              "4  https://www.amazon.in/gp/bestsellers/books/131...  "
            ],
            "text/html": [
              "\n",
              "  <div id=\"df-dac40cd3-138d-411b-9a68-fe69bbdc6e91\">\n",
              "    <div class=\"colab-df-container\">\n",
              "      <div>\n",
              "<style scoped>\n",
              "    .dataframe tbody tr th:only-of-type {\n",
              "        vertical-align: middle;\n",
              "    }\n",
              "\n",
              "    .dataframe tbody tr th {\n",
              "        vertical-align: top;\n",
              "    }\n",
              "\n",
              "    .dataframe thead th {\n",
              "        text-align: right;\n",
              "    }\n",
              "</style>\n",
              "<table border=\"1\" class=\"dataframe\">\n",
              "  <thead>\n",
              "    <tr style=\"text-align: right;\">\n",
              "      <th></th>\n",
              "      <th>category</th>\n",
              "      <th>url</th>\n",
              "    </tr>\n",
              "  </thead>\n",
              "  <tbody>\n",
              "    <tr>\n",
              "      <th>0</th>\n",
              "      <td>Action &amp; Adventure</td>\n",
              "      <td>https://www.amazon.in/gp/bestsellers/books/131...</td>\n",
              "    </tr>\n",
              "    <tr>\n",
              "      <th>1</th>\n",
              "      <td>Arts, Film &amp; Photography</td>\n",
              "      <td>https://www.amazon.in/gp/bestsellers/books/131...</td>\n",
              "    </tr>\n",
              "    <tr>\n",
              "      <th>2</th>\n",
              "      <td>Biographies, Diaries &amp; True Accounts</td>\n",
              "      <td>https://www.amazon.in/gp/bestsellers/books/131...</td>\n",
              "    </tr>\n",
              "    <tr>\n",
              "      <th>3</th>\n",
              "      <td>Business &amp; Economics</td>\n",
              "      <td>https://www.amazon.in/gp/bestsellers/books/131...</td>\n",
              "    </tr>\n",
              "    <tr>\n",
              "      <th>4</th>\n",
              "      <td>Children's &amp; Young Adult</td>\n",
              "      <td>https://www.amazon.in/gp/bestsellers/books/131...</td>\n",
              "    </tr>\n",
              "  </tbody>\n",
              "</table>\n",
              "</div>\n",
              "      <button class=\"colab-df-convert\" onclick=\"convertToInteractive('df-dac40cd3-138d-411b-9a68-fe69bbdc6e91')\"\n",
              "              title=\"Convert this dataframe to an interactive table.\"\n",
              "              style=\"display:none;\">\n",
              "        \n",
              "  <svg xmlns=\"http://www.w3.org/2000/svg\" height=\"24px\"viewBox=\"0 0 24 24\"\n",
              "       width=\"24px\">\n",
              "    <path d=\"M0 0h24v24H0V0z\" fill=\"none\"/>\n",
              "    <path d=\"M18.56 5.44l.94 2.06.94-2.06 2.06-.94-2.06-.94-.94-2.06-.94 2.06-2.06.94zm-11 1L8.5 8.5l.94-2.06 2.06-.94-2.06-.94L8.5 2.5l-.94 2.06-2.06.94zm10 10l.94 2.06.94-2.06 2.06-.94-2.06-.94-.94-2.06-.94 2.06-2.06.94z\"/><path d=\"M17.41 7.96l-1.37-1.37c-.4-.4-.92-.59-1.43-.59-.52 0-1.04.2-1.43.59L10.3 9.45l-7.72 7.72c-.78.78-.78 2.05 0 2.83L4 21.41c.39.39.9.59 1.41.59.51 0 1.02-.2 1.41-.59l7.78-7.78 2.81-2.81c.8-.78.8-2.07 0-2.86zM5.41 20L4 18.59l7.72-7.72 1.47 1.35L5.41 20z\"/>\n",
              "  </svg>\n",
              "      </button>\n",
              "      \n",
              "  <style>\n",
              "    .colab-df-container {\n",
              "      display:flex;\n",
              "      flex-wrap:wrap;\n",
              "      gap: 12px;\n",
              "    }\n",
              "\n",
              "    .colab-df-convert {\n",
              "      background-color: #E8F0FE;\n",
              "      border: none;\n",
              "      border-radius: 50%;\n",
              "      cursor: pointer;\n",
              "      display: none;\n",
              "      fill: #1967D2;\n",
              "      height: 32px;\n",
              "      padding: 0 0 0 0;\n",
              "      width: 32px;\n",
              "    }\n",
              "\n",
              "    .colab-df-convert:hover {\n",
              "      background-color: #E2EBFA;\n",
              "      box-shadow: 0px 1px 2px rgba(60, 64, 67, 0.3), 0px 1px 3px 1px rgba(60, 64, 67, 0.15);\n",
              "      fill: #174EA6;\n",
              "    }\n",
              "\n",
              "    [theme=dark] .colab-df-convert {\n",
              "      background-color: #3B4455;\n",
              "      fill: #D2E3FC;\n",
              "    }\n",
              "\n",
              "    [theme=dark] .colab-df-convert:hover {\n",
              "      background-color: #434B5C;\n",
              "      box-shadow: 0px 1px 3px 1px rgba(0, 0, 0, 0.15);\n",
              "      filter: drop-shadow(0px 1px 2px rgba(0, 0, 0, 0.3));\n",
              "      fill: #FFFFFF;\n",
              "    }\n",
              "  </style>\n",
              "\n",
              "      <script>\n",
              "        const buttonEl =\n",
              "          document.querySelector('#df-dac40cd3-138d-411b-9a68-fe69bbdc6e91 button.colab-df-convert');\n",
              "        buttonEl.style.display =\n",
              "          google.colab.kernel.accessAllowed ? 'block' : 'none';\n",
              "\n",
              "        async function convertToInteractive(key) {\n",
              "          const element = document.querySelector('#df-dac40cd3-138d-411b-9a68-fe69bbdc6e91');\n",
              "          const dataTable =\n",
              "            await google.colab.kernel.invokeFunction('convertToInteractive',\n",
              "                                                     [key], {});\n",
              "          if (!dataTable) return;\n",
              "\n",
              "          const docLinkHtml = 'Like what you see? Visit the ' +\n",
              "            '<a target=\"_blank\" href=https://colab.research.google.com/notebooks/data_table.ipynb>data table notebook</a>'\n",
              "            + ' to learn more about interactive tables.';\n",
              "          element.innerHTML = '';\n",
              "          dataTable['output_type'] = 'display_data';\n",
              "          await google.colab.output.renderOutput(dataTable, element);\n",
              "          const docLink = document.createElement('div');\n",
              "          docLink.innerHTML = docLinkHtml;\n",
              "          element.appendChild(docLink);\n",
              "        }\n",
              "      </script>\n",
              "    </div>\n",
              "  </div>\n",
              "  "
            ]
          },
          "metadata": {},
          "execution_count": 12
        }
      ]
    },
    {
      "cell_type": "markdown",
      "source": [
        "###  📗 Grabbing  ▶ URL s for the Book Details Pages"
      ],
      "metadata": {
        "id": "2iOo9GJrqr2G"
      }
    },
    {
      "cell_type": "code",
      "source": [
        "categories_df = get_categories_df(\"https://www.amazon.in\")"
      ],
      "metadata": {
        "id": "0xjcwgeXdmws"
      },
      "execution_count": 13,
      "outputs": []
    },
    {
      "cell_type": "code",
      "source": [
        "category_page_url = \"https://www.amazon.in/gp/bestsellers/books/1318158031\"\n",
        "category_page_content = get_page_content(category_page_url)\n",
        "category_page_content[:1000]"
      ],
      "metadata": {
        "id": "IJdq6Ll1jWxV",
        "colab": {
          "base_uri": "https://localhost:8080/",
          "height": 140
        },
        "outputId": "b3f8607f-d473-4939-d9f1-35f6757e9856"
      },
      "execution_count": 14,
      "outputs": [
        {
          "output_type": "execute_result",
          "data": {
            "text/plain": [
              "'<!doctype html><html lang=\"en-in\" class=\"a-no-js\" data-19ax5a9jf=\"dingo\"><!-- sp:feature:head-start -->\\n<head><script>var aPageStart = (new Date()).getTime();</script><meta charset=\"utf-8\"/>\\n<!-- sp:end-feature:head-start -->\\n\\n<script type=\\'text/javascript\\'>var ue_t0=ue_t0||+new Date();</script>\\n<!-- sp:feature:cs-optimization -->\\n<meta http-equiv=\\'x-dns-prefetch-control\\' content=\\'on\\'>\\n<link rel=\"dns-prefetch\" href=\"https://images-eu.ssl-images-amazon.com\">\\n<link rel=\"dns-prefetch\" href=\"https://m.media-amazon.com\">\\n<link rel=\"dns-prefetch\" href=\"https://completion.amazon.com\">\\n<!-- sp:end-feature:cs-optimization -->\\n<script type=\\'text/javascript\\'>\\nwindow.ue_ihb = (window.ue_ihb || window.ueinit || 0) + 1;\\nif (window.ue_ihb === 1) {\\n\\nvar ue_csm = window,\\n    ue_hob = +new Date();\\n(function(d){var e=d.ue=d.ue||{},f=Date.now||function(){return+new Date};e.d=function(b){return f()-(b?0:d.ue_t0)};e.stub=function(b,a){if(!b[a]){var c=[];b[a]=function(){c.push([c.slice.call(arguments),e.d(),'"
            ],
            "application/vnd.google.colaboratory.intrinsic+json": {
              "type": "string"
            }
          },
          "metadata": {},
          "execution_count": 14
        }
      ]
    },
    {
      "cell_type": "code",
      "source": [
        "categorzed_books_doc = BeautifulSoup(category_page_content , 'html.parser')"
      ],
      "metadata": {
        "id": "44yjO2UVt7-M"
      },
      "execution_count": 15,
      "outputs": []
    },
    {
      "cell_type": "code",
      "source": [
        "def get_book_page_url(category_url):\n",
        "  '''\n",
        "    -Obtain the links for the book details page  \n",
        "    :param doc | bs4.BeautifulSoup, The bs4 object of a specific book category page\n",
        "    :return list of links which are belong to a specific category\n",
        "  '''\n",
        "  category_page_content = get_page_content(category_url)\n",
        "  categorzed_books_doc = BeautifulSoup(category_page_content , 'html.parser')\n",
        "  \n",
        "  book_card_class = 'zg-grid-general-faceout'\n",
        "  book_card_divs = categorzed_books_doc.find_all('div' ,{'class':book_card_class } )\n",
        " \n",
        "  books_links = []\n",
        "  base_url = \"https://www.amazon.in\"\n",
        "  for book_card in book_card_divs:\n",
        "    a_tag = book_card.find('a')\n",
        "    link = base_url + a_tag['href']\n",
        "    books_links.append(link)\n",
        "\n",
        "  return books_links"
      ],
      "metadata": {
        "id": "WLhGG0RCuDsd"
      },
      "execution_count": 16,
      "outputs": []
    },
    {
      "cell_type": "code",
      "source": [
        "links = get_book_page_url('https://www.amazon.in/gp/bestsellers/books/1318064031/ref=zg_bs_nav_books_1')\n",
        "links[:5]"
      ],
      "metadata": {
        "id": "1xvygIb3u8KG",
        "colab": {
          "base_uri": "https://localhost:8080/"
        },
        "outputId": "10a46280-6c98-4059-b965-537af00e5f0f"
      },
      "execution_count": 17,
      "outputs": [
        {
          "output_type": "execute_result",
          "data": {
            "text/plain": [
              "['https://www.amazon.in/My-Journey-Transforming-Dreams-Actions-ebook/dp/B016APQJB2/ref=zg_bs_1318064031_1/259-6009193-9790211?pd_rd_i=B016APQJB2&psc=1',\n",
              " 'https://www.amazon.in/Think-Grow-Rich-Napoleon-Hill/dp/9353338158/ref=zg_bs_1318064031_2/259-6009193-9790211?pd_rd_i=9353338158&psc=1',\n",
              " 'https://www.amazon.in/Wish-Could-Tell-Pre-order-signed/dp/9390441617/ref=zg_bs_1318064031_3/259-6009193-9790211?pd_rd_i=9390441617&psc=1',\n",
              " 'https://www.amazon.in/Theory-Everything-Stephen-Hawking/dp/8179925919/ref=zg_bs_1318064031_4/259-6009193-9790211?pd_rd_i=8179925919&psc=1',\n",
              " 'https://www.amazon.in/Three-Thousand-Stitches-Ordinary-Extraordinary/dp/0143440055/ref=zg_bs_1318064031_5/259-6009193-9790211?pd_rd_i=0143440055&psc=1']"
            ]
          },
          "metadata": {},
          "execution_count": 17
        }
      ]
    },
    {
      "cell_type": "markdown",
      "source": [
        "### 📗 Scraping ▶ The details of a particular Book"
      ],
      "metadata": {
        "id": "N4LSi6ZtLWpr"
      }
    },
    {
      "cell_type": "code",
      "source": [
        "book_page_url = links[16]\n",
        "book_page = get_page_content(book_page_url)\n",
        "book_doc = BeautifulSoup(book_page , 'html.parser')"
      ],
      "metadata": {
        "id": "WiABwFsXv-9B"
      },
      "execution_count": 19,
      "outputs": []
    },
    {
      "cell_type": "code",
      "source": [
        "def get_book_name(book_doc):\n",
        "  span_class = 'a-size-extra-large'\n",
        "  span_tags = book_doc.find('span', {'class': span_class})  \n",
        "  if(span_tags):\n",
        "    return span_tags.text.strip()\n",
        "  else:\n",
        "    \"\""
      ],
      "metadata": {
        "id": "OrQd05FzH1GO"
      },
      "execution_count": 20,
      "outputs": []
    },
    {
      "cell_type": "code",
      "source": [
        "book_name = get_book_name(book_doc)\n",
        "book_name"
      ],
      "metadata": {
        "colab": {
          "base_uri": "https://localhost:8080/",
          "height": 35
        },
        "id": "SE5qTM6cCjjG",
        "outputId": "b6188b9a-ce01-42e6-b90b-c81f021684e6"
      },
      "execution_count": 21,
      "outputs": [
        {
          "output_type": "execute_result",
          "data": {
            "text/plain": [
              "'Learning How to Fly: Life Lessons for the Youth'"
            ],
            "application/vnd.google.colaboratory.intrinsic+json": {
              "type": "string"
            }
          },
          "metadata": {},
          "execution_count": 21
        }
      ]
    },
    {
      "cell_type": "code",
      "source": [
        "def get_book_author(book_doc):\n",
        "  author_a_tag_class = 'a-link-normal contributorNameID'\n",
        "  a_tags_authors =  book_doc.find('a', {'class': author_a_tag_class}) \n",
        "  if(a_tags_authors):\n",
        "    return a_tags_authors.text.strip()\n",
        "  else:\n",
        "    return \"\""
      ],
      "metadata": {
        "id": "1Fhe0-vpHZBn"
      },
      "execution_count": 22,
      "outputs": []
    },
    {
      "cell_type": "code",
      "source": [
        "#Author\n",
        "author = get_book_author(book_doc)\n",
        "author"
      ],
      "metadata": {
        "colab": {
          "base_uri": "https://localhost:8080/",
          "height": 35
        },
        "id": "u656f6VjMS0Q",
        "outputId": "771064f1-94b5-4172-c4f8-925d112c0e40"
      },
      "execution_count": 23,
      "outputs": [
        {
          "output_type": "execute_result",
          "data": {
            "text/plain": [
              "'A.P.J. Abdul  Kalam'"
            ],
            "application/vnd.google.colaboratory.intrinsic+json": {
              "type": "string"
            }
          },
          "metadata": {},
          "execution_count": 23
        }
      ]
    },
    {
      "cell_type": "code",
      "source": [
        "def get_book_price(book_doc):\n",
        "  price_a_tag_class = 'a-size-mini a-link-normal'\n",
        "  a_tags_price = book_doc.find('a', {'class': price_a_tag_class})\n",
        "  if(a_tags_price):\n",
        "    price_text = a_tags_price.text.strip()\n",
        "    if(price_text):\n",
        "      return price_text.split(' ')[0].strip()\n",
        "    else:\n",
        "      return '0'"
      ],
      "metadata": {
        "id": "aeKk4zsZFuwz"
      },
      "execution_count": 24,
      "outputs": []
    },
    {
      "cell_type": "code",
      "source": [
        "#Price \n",
        "price = get_book_price(book_doc)\n",
        "price"
      ],
      "metadata": {
        "colab": {
          "base_uri": "https://localhost:8080/",
          "height": 35
        },
        "id": "6pUo1f4_MJ2k",
        "outputId": "098c8281-9fbe-446b-b4af-dab213502b68"
      },
      "execution_count": 25,
      "outputs": [
        {
          "output_type": "execute_result",
          "data": {
            "text/plain": [
              "'₹149.47'"
            ],
            "application/vnd.google.colaboratory.intrinsic+json": {
              "type": "string"
            }
          },
          "metadata": {},
          "execution_count": 25
        }
      ]
    },
    {
      "cell_type": "code",
      "source": [
        "def get_numof_ratings(book_doc):\n",
        "  ratings_span_tag_class = 'a-size-base'\n",
        "  ratings_span_tag_id = 'acrCustomerReviewText'\n",
        "  span_tags_price = book_doc.find_all('span', {'id': ratings_span_tag_id , 'class': ratings_span_tag_class}) \n",
        "  if(span_tags_price):\n",
        "    ratings_text = span_tags_price[0].text.strip()\n",
        "    if(ratings_text):\n",
        "      return ratings_text.split(' ')[0].strip()\n",
        "    else:\n",
        "      return 0"
      ],
      "metadata": {
        "id": "34bKCFV0ExlZ"
      },
      "execution_count": 26,
      "outputs": []
    },
    {
      "cell_type": "code",
      "source": [
        "#Ratings\n",
        "ratings = get_numof_ratings(book_doc)\n",
        "ratings"
      ],
      "metadata": {
        "colab": {
          "base_uri": "https://localhost:8080/",
          "height": 35
        },
        "id": "-TTmVeIsNhYN",
        "outputId": "309b215a-f2f1-43b3-9952-c8e379f95bf2"
      },
      "execution_count": 27,
      "outputs": [
        {
          "output_type": "execute_result",
          "data": {
            "text/plain": [
              "'2,762'"
            ],
            "application/vnd.google.colaboratory.intrinsic+json": {
              "type": "string"
            }
          },
          "metadata": {},
          "execution_count": 27
        }
      ]
    },
    {
      "cell_type": "code",
      "source": [
        "def get_numof_stars(book_doc):\n",
        "  starts_span_tag_class = 'a-icon-alt'\n",
        "  span_tags_stars = book_doc.find('span', {'class': starts_span_tag_class})\n",
        "  if(span_tags_stars):\n",
        "    stars_text = span_tags_stars.text.strip()\n",
        "    if(stars_text!=\"\"):\n",
        "      stars = stars_text.split(' ')[0].strip()\n",
        "      return stars\n",
        "    else:\n",
        "      return '0'"
      ],
      "metadata": {
        "id": "F5tRJOlTD_9h"
      },
      "execution_count": 28,
      "outputs": []
    },
    {
      "cell_type": "code",
      "source": [
        "stars = get_numof_stars(book_doc)\n",
        "stars"
      ],
      "metadata": {
        "colab": {
          "base_uri": "https://localhost:8080/",
          "height": 35
        },
        "id": "BdVAkwMvO1Tb",
        "outputId": "82132a15-c436-4d65-812b-c1bd92105edc"
      },
      "execution_count": 29,
      "outputs": [
        {
          "output_type": "execute_result",
          "data": {
            "text/plain": [
              "'4.7'"
            ],
            "application/vnd.google.colaboratory.intrinsic+json": {
              "type": "string"
            }
          },
          "metadata": {},
          "execution_count": 29
        }
      ]
    },
    {
      "cell_type": "code",
      "source": [
        "#Number Of Pages \n",
        "def get_book_pages(book_doc):\n",
        "  pages_div_tag_class = 'a-section a-spacing-small a-text-center rpi-attribute-label'\n",
        "  div_tags = book_doc.find_all('div', {\"class\": pages_div_tag_class})\n",
        "\n",
        "  if(len(div_tags) > 0):\n",
        "    for tag in div_tags:\n",
        "      tag_name = tag.text\n",
        "      if(tag_name.strip() == 'Print length'):\n",
        "        span_tag = tag.parent.find_all('span')\n",
        "        pages = span_tag[-1].text.split(' ')[0].strip() \n",
        "        return pages\n",
        "  \n",
        "  return \"0\""
      ],
      "metadata": {
        "id": "bx2mcQ6l9Cxv"
      },
      "execution_count": 30,
      "outputs": []
    },
    {
      "cell_type": "code",
      "source": [
        "pages = get_book_pages(book_doc)\n",
        "pages"
      ],
      "metadata": {
        "colab": {
          "base_uri": "https://localhost:8080/",
          "height": 35
        },
        "id": "9C-Ive429mYW",
        "outputId": "2654ea4a-79b2-4af7-e4a5-e6c67527d115"
      },
      "execution_count": 31,
      "outputs": [
        {
          "output_type": "execute_result",
          "data": {
            "text/plain": [
              "'117'"
            ],
            "application/vnd.google.colaboratory.intrinsic+json": {
              "type": "string"
            }
          },
          "metadata": {},
          "execution_count": 31
        }
      ]
    },
    {
      "cell_type": "code",
      "source": [
        "#Language\n",
        "def get_book_language(book_doc):\n",
        "  pages_div_tag_class = 'a-section a-spacing-small a-text-center rpi-attribute-label'\n",
        "  div_tags = book_doc.find_all('div', {\"class\": pages_div_tag_class})\n",
        "\n",
        "  if(len(div_tags) > 0):\n",
        "    for tag in div_tags:\n",
        "      tag_name = tag.text\n",
        "      if(tag_name.strip() == 'Language'):\n",
        "        span_tag = tag.parent.find_all('span')\n",
        "        language = span_tag[-1].text.split(' ')[0].strip() \n",
        "        return language\n",
        "  \n",
        "  return \"\""
      ],
      "metadata": {
        "id": "r3wuWYscAh6L"
      },
      "execution_count": 32,
      "outputs": []
    },
    {
      "cell_type": "code",
      "source": [
        "lang  = get_book_language(book_doc)\n",
        "lang"
      ],
      "metadata": {
        "colab": {
          "base_uri": "https://localhost:8080/",
          "height": 35
        },
        "id": "vgXoB1DkIliC",
        "outputId": "18a6ab29-a631-4dad-8353-4fcb639b8304"
      },
      "execution_count": 33,
      "outputs": [
        {
          "output_type": "execute_result",
          "data": {
            "text/plain": [
              "'English'"
            ],
            "application/vnd.google.colaboratory.intrinsic+json": {
              "type": "string"
            }
          },
          "metadata": {},
          "execution_count": 33
        }
      ]
    },
    {
      "cell_type": "markdown",
      "source": [
        "## 🥗 ---------- Combining All-Together - Saving Book details to csv for each category ---------- 💚"
      ],
      "metadata": {
        "id": "6j5e64qZJDPp"
      }
    },
    {
      "cell_type": "code",
      "source": [
        "def get_book_details_df(book_url_list , path):\n",
        "  \n",
        "  book_details_dict = {\n",
        "      \"name\": [],\n",
        "      \"author\": [],\n",
        "      \"language\":[],\n",
        "      \"price\": [],\n",
        "      \"ratings\": [],\n",
        "      \"stars\": [],\n",
        "      \"pages\" : []\n",
        "  }\n",
        "  print(\"---> Scraping Books Details ||\")\n",
        "\n",
        "  for book_page_url in book_url_list:\n",
        "    book_page = get_page_content(book_page_url)\n",
        "    doc = BeautifulSoup(book_page , 'html.parser')\n",
        "    print(\"#\" , end=\"\")\n",
        "\n",
        "    book_details_dict['name'].append(get_book_name(doc))\n",
        "    book_details_dict['author'].append(get_book_author(doc))\n",
        "    book_details_dict['price'].append(get_book_price(doc))\n",
        "    book_details_dict['ratings'].append(get_numof_ratings(doc))\n",
        "    book_details_dict['stars'].append(get_numof_stars(doc))\n",
        "    book_details_dict['pages'].append(get_book_pages(doc))\n",
        "    book_details_dict['language'].append(get_book_language(doc))\n",
        "\n",
        "  print(\"\")\n",
        "  cat_book_df =  pd.DataFrame(book_details_dict)\n",
        "  cat_book_df.to_csv(path, index=None)\n",
        "  print(\"------------- File Saved --------------------------\")\n"
      ],
      "metadata": {
        "id": "3RZHBYkGIo9R"
      },
      "execution_count": 2,
      "outputs": []
    },
    {
      "cell_type": "markdown",
      "source": [
        "💻 **get_book_details_df** Function will accept a list of urls for the book pages which are belong to a specific category and the path that the csv files wanted to be saved. Inside the get_book_details_df function, it will call other helper functions like get_book_name , get_numof_ratings  that we are defined earlier to grab the details of each book. "
      ],
      "metadata": {
        "id": "1gNhJ_w6JTQI"
      }
    },
    {
      "cell_type": "code",
      "source": [
        "def scrape_categorized_books():\n",
        "    print('Scraping List of Book Categories')\n",
        "    categories_df = get_categories_df(\"https://www.amazon.in\")\n",
        "    \n",
        "    for index, caturl in categories_df.iterrows():\n",
        "      print(\"Obtaining Books Details for Category {}\".format(caturl[\"category\"]))\n",
        "      book_links = get_book_page_url(caturl['url'])\n",
        "      \n",
        "      os.makedirs('data', exist_ok=True)\n",
        "      #'data/{}.csv'.format(row['title'])\n",
        "      get_book_details_df(book_links, 'data/{}.csv'.format(caturl['category']))\n",
        "      time.sleep(3)\n",
        "      \n",
        "    "
      ],
      "metadata": {
        "id": "EtxJhj7AgwE5"
      },
      "execution_count": 37,
      "outputs": []
    },
    {
      "cell_type": "markdown",
      "source": [
        "💻 **scrape_categorized_books** function will first obtain the list of urls for the each book categories and then it will scrape the details of the books belong to each categories using the get_book_details_df function."
      ],
      "metadata": {
        "id": "r0saFiXSKOpX"
      }
    },
    {
      "cell_type": "code",
      "source": [
        "scrape_categorized_books()"
      ],
      "metadata": {
        "id": "UW0pztgSg2aV",
        "colab": {
          "base_uri": "https://localhost:8080/"
        },
        "outputId": "256d23b0-6025-4a18-eaae-3da58ea0279c"
      },
      "execution_count": 36,
      "outputs": [
        {
          "output_type": "stream",
          "name": "stdout",
          "text": [
            "Scraping List of Book Categories\n",
            "Obtaining Books Details for Category Action & Adventure\n",
            "---> Scraping Books Details ||\n",
            "##############################\n",
            "------------- File Saved --------------------------\n"
          ]
        }
      ]
    },
    {
      "cell_type": "markdown",
      "source": [
        "📓 about output shows a sample output for scraping book details of one category"
      ],
      "metadata": {
        "id": "hBg146LNQ6oj"
      }
    },
    {
      "cell_type": "markdown",
      "source": [
        "## 🥗 ----------References and  Future Works ---------- 💚\n",
        "\n",
        "📗 **Summary :**\n",
        "\n",
        "* ▶ Scrape the Book Categories listed in https://www.amazon.in/gp/bestsellers/books/\n",
        "* ▶ Grab the Details of the Books for each category.\n",
        "* ▶ Save the data into csv files \n",
        "\n",
        "📗 **References :**\n",
        "* ▶ Video Tutorial - https://www.youtube.com/watch?v=RKsLLG-bzEY&t=8236s\n",
        "\n",
        "📗 **Future Works :**\n",
        "* ▶ Visualize the collected data in a dashboard\n",
        "* ▶ Trying to Automate the scraping by creating a data pipeline\n",
        "\n"
      ],
      "metadata": {
        "id": "TR6AIPUYNi9q"
      }
    },
    {
      "cell_type": "code",
      "source": [
        ""
      ],
      "metadata": {
        "id": "uixtCzkSPoJh"
      },
      "execution_count": null,
      "outputs": []
    }
  ]
}